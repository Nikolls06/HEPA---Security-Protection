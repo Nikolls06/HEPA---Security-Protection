{
  "nbformat": 4,
  "nbformat_minor": 0,
  "metadata": {
    "colab": {
      "provenance": [],
      "collapsed_sections": [
        "U1hGxYgkQiSn",
        "ihi4-OzMQj8v",
        "UJNeXu4IQmVX",
        "_Q0zk7SjQnv3",
        "kdIrpsn2QoyH",
        "1iWq0X4rQp13",
        "pz0IVT7vQ4PX",
        "fxevS-bARufe",
        "WKl6dWMOS71W",
        "Ryj20VqCUMC9",
        "W4cYhwuFWgEN",
        "CzQSeXnwYw2c",
        "OIRuhjsSZ4f7",
        "mfjE1Ejpbbkb",
        "W3ACf1B6iH5J",
        "M7UiRY1niuVB"
      ],
      "authorship_tag": "ABX9TyOA1EC2iQQqxO8xgXLkqfGu",
      "include_colab_link": true
    },
    "kernelspec": {
      "name": "python3",
      "display_name": "Python 3"
    },
    "language_info": {
      "name": "python"
    }
  },
  "cells": [
    {
      "cell_type": "markdown",
      "metadata": {
        "id": "view-in-github",
        "colab_type": "text"
      },
      "source": [
        "<a href=\"https://colab.research.google.com/github/Nikolls06/HEPA---Security-Protection/blob/main/Exerc%C3%ADcios_Aru.ipynb\" target=\"_parent\"><img src=\"https://colab.research.google.com/assets/colab-badge.svg\" alt=\"Open In Colab\"/></a>"
      ]
    },
    {
      "cell_type": "markdown",
      "source": [
        "# Exercício 1"
      ],
      "metadata": {
        "id": "j8NALRpqQfsn"
      }
    },
    {
      "cell_type": "code",
      "source": [
        "nomezzzzzz = str(input(\"seu nome: \"))\n",
        "print(\"boas vindas\" ,nomezzzzzz)"
      ],
      "metadata": {
        "colab": {
          "base_uri": "https://localhost:8080/"
        },
        "id": "JIAi8uwdOBJ4",
        "outputId": "4adce051-989e-44b4-d481-ffb2f6188c83"
      },
      "execution_count": 110,
      "outputs": [
        {
          "output_type": "stream",
          "name": "stdout",
          "text": [
            "seu nome: a\n",
            "boas vindas a\n"
          ]
        }
      ]
    },
    {
      "cell_type": "markdown",
      "source": [
        "# Exercício 2"
      ],
      "metadata": {
        "id": "U1hGxYgkQiSn"
      }
    },
    {
      "cell_type": "code",
      "source": [
        "palavra1 = input(\"Digite a primeira palavra: \")\n",
        "palavra2 = input(\"Digite a segunda palavra: \")\n",
        "\n",
        "palavra = palavra1 + ' ' + palavra2\n",
        "\n",
        "print(palavra)"
      ],
      "metadata": {
        "colab": {
          "base_uri": "https://localhost:8080/"
        },
        "id": "-6DgJ2yWONXA",
        "outputId": "5c525364-a342-4562-cbd4-d6096606b02b"
      },
      "execution_count": 3,
      "outputs": [
        {
          "output_type": "stream",
          "name": "stdout",
          "text": [
            "Digite a primeira palavra: aaaa\n",
            "Digite a segunda palavra: aaaa\n",
            "aaaa aaaa\n"
          ]
        }
      ]
    },
    {
      "cell_type": "markdown",
      "source": [
        "# Exercício 3"
      ],
      "metadata": {
        "id": "ihi4-OzMQj8v"
      }
    },
    {
      "cell_type": "code",
      "source": [
        "frase = str(input(\"Digite uma frase: \"))\n",
        "palavras = frase.split()\n",
        "contagem = len(palavras)\n",
        "\n",
        "print(\"A frase tem\", contagem, \"palavras.\")"
      ],
      "metadata": {
        "colab": {
          "base_uri": "https://localhost:8080/"
        },
        "id": "jZpR4L0kOjK_",
        "outputId": "7f1e88c4-35d2-45a0-9b8c-2c2d490d8d20"
      },
      "execution_count": 4,
      "outputs": [
        {
          "output_type": "stream",
          "name": "stdout",
          "text": [
            "Digite uma frase: oi bruh\n",
            "A frase tem 2 palavras.\n"
          ]
        }
      ]
    },
    {
      "cell_type": "markdown",
      "source": [
        "# Exercício *4*"
      ],
      "metadata": {
        "id": "UJNeXu4IQmVX"
      }
    },
    {
      "cell_type": "code",
      "source": [
        "nmr1 = float(input(\"Digite um número: \"))\n",
        "nmr2 = float(input(\"Digite outro número: \"))\n",
        "\n",
        "soma = nmr1 + nmr2\n",
        "\n",
        "print(f\"A soma de {nmr1} e {nmr2} resulta em {soma}\")"
      ],
      "metadata": {
        "colab": {
          "base_uri": "https://localhost:8080/"
        },
        "id": "CJqPvn4eOy5X",
        "outputId": "c338af75-17e2-467a-f593-5899937f3d81"
      },
      "execution_count": 5,
      "outputs": [
        {
          "output_type": "stream",
          "name": "stdout",
          "text": [
            "Digite um número: 1\n",
            "Digite outro número: 1\n",
            "A soma de 1.0 e 1.0 resulta em 2.0\n"
          ]
        }
      ]
    },
    {
      "cell_type": "markdown",
      "source": [
        "# Exercício 5"
      ],
      "metadata": {
        "id": "_Q0zk7SjQnv3"
      }
    },
    {
      "cell_type": "code",
      "source": [
        "num1 = float(input(\"Digite um número: \"))\n",
        "num2 = float(input(\"Digite outro número: \"))\n",
        "num3 = float(input(\"Digite outro número: \"))\n",
        "\n",
        "media = (num1 + num2 + num3) / 3\n",
        "print(\"a média é \",media)"
      ],
      "metadata": {
        "colab": {
          "base_uri": "https://localhost:8080/"
        },
        "id": "p8JDZKW9O_A3",
        "outputId": "fb198e96-c54b-4a59-f4ed-d54e320c7de5"
      },
      "execution_count": 12,
      "outputs": [
        {
          "output_type": "stream",
          "name": "stdout",
          "text": [
            "Digite um número: 5\n",
            "Digite outro número: 5\n",
            "Digite outro número: 5\n",
            "a média é  5.0\n"
          ]
        }
      ]
    },
    {
      "cell_type": "markdown",
      "source": [
        "# Exercício 6"
      ],
      "metadata": {
        "id": "kdIrpsn2QoyH"
      }
    },
    {
      "cell_type": "code",
      "source": [
        "num1 = float(input(\"Digite um número: \"))\n",
        "num2 = float(input(\"Digite outro número: \"))\n",
        "num3 = float(input(\"Digite outro número: \"))\n",
        "\n",
        "if num1 > num2 and num1 > num3:\n",
        "    print(f\"{num1} é maior que {num2}\")\n",
        "elif num2 > num1 and num2 > num3:\n",
        "    print(f\"{num2} é maior que {num1}\")\n",
        "else:\n",
        "    print(f\"{num3} é maior que {num1}\")"
      ],
      "metadata": {
        "colab": {
          "base_uri": "https://localhost:8080/"
        },
        "id": "LUzpNXPHP9S_",
        "outputId": "8fb36cf7-331f-4909-a262-74d1489f9324"
      },
      "execution_count": 13,
      "outputs": [
        {
          "output_type": "stream",
          "name": "stdout",
          "text": [
            "Digite um número: 5\n",
            "Digite outro número: 33\n",
            "Digite outro número: 77\n",
            "77.0 é maior que 5.0\n"
          ]
        }
      ]
    },
    {
      "cell_type": "markdown",
      "source": [
        "# Exercício 7"
      ],
      "metadata": {
        "id": "1iWq0X4rQp13"
      }
    },
    {
      "cell_type": "code",
      "source": [
        "nmr1 = float(input(\"Digite um número: \"))\n",
        "\n",
        "if nmr1 > 100:\n",
        "    print(\"Esse número é maior que 100\")\n",
        "\n",
        "elif nmr1 < 100:\n",
        "    print(\"Esse número é menor que 100\")\n",
        "\n",
        "elif nmr1 == 100:\n",
        "    print(\"Esse número é igual que 100\")\n"
      ],
      "metadata": {
        "colab": {
          "base_uri": "https://localhost:8080/"
        },
        "id": "vu_KZ__5QOE3",
        "outputId": "19731750-b1fa-481a-8390-259eaf023967"
      },
      "execution_count": 14,
      "outputs": [
        {
          "output_type": "stream",
          "name": "stdout",
          "text": [
            "Digite um número: 100\n",
            "Esse número é igual que 100\n"
          ]
        }
      ]
    },
    {
      "cell_type": "markdown",
      "source": [
        "# Exercício 8"
      ],
      "metadata": {
        "id": "pz0IVT7vQ4PX"
      }
    },
    {
      "cell_type": "code",
      "source": [
        "print(\"Digite dois numeros\")\n",
        "nmr1 = float(input(\"Digite um número: \"))\n",
        "nmr2 = float(input(\"Digite um número: \"))\n",
        "\n",
        "if nmr1 == nmr2:\n",
        "    print(f\"O número {nmr1} é o número {nmr2} são iguais\")\n",
        "\n",
        "elif nmr1 > nmr2:\n",
        "    print(f\"O número {nmr1} é maior que o número {nmr2}\")\n",
        "\n",
        "elif nmr1 < nmr2:\n",
        "    print(f\"O número {nmr2} é maior que o número {nmr1}\")"
      ],
      "metadata": {
        "colab": {
          "base_uri": "https://localhost:8080/"
        },
        "id": "XOR1z7GvQUM-",
        "outputId": "0fbdc6df-f389-4779-f586-700c6d325bfd"
      },
      "execution_count": 17,
      "outputs": [
        {
          "output_type": "stream",
          "name": "stdout",
          "text": [
            "Digite dois numeros\n",
            "Digite um número: 10\n",
            "Digite um número: 20\n",
            "O número 20.0 é maior que o número 10.0\n"
          ]
        }
      ]
    },
    {
      "cell_type": "markdown",
      "source": [
        "# Exercício 9\n",
        "\n"
      ],
      "metadata": {
        "id": "fxevS-bARufe"
      }
    },
    {
      "cell_type": "code",
      "source": [
        "lado1 = float(input(\"Digite o valor do primeiro lado: \"))\n",
        "lado2 = float(input(\"Digite o valor do segundo lado: \"))\n",
        "lado3 = float(input(\"Digite o valor do terceiro lado: \"))\n",
        "\n",
        "if lado1 + lado2 > lado3 and lado1 + lado3 > lado2 and lado2 + lado3 > lado1:\n",
        "    print(\"É um triângulo\")\n",
        "else:\n",
        "    print(\"Não é um triângulo\")"
      ],
      "metadata": {
        "colab": {
          "base_uri": "https://localhost:8080/"
        },
        "id": "FdWHc8WORzsH",
        "outputId": "339f7ac8-9496-489a-f8a3-7e880e63ac60"
      },
      "execution_count": 18,
      "outputs": [
        {
          "output_type": "stream",
          "name": "stdout",
          "text": [
            "Digite o valor do primeiro lado: 20\n",
            "Digite o valor do segundo lado: 30\n",
            "Digite o valor do terceiro lado: 3\n",
            "Não é um triângulo\n"
          ]
        }
      ]
    },
    {
      "cell_type": "markdown",
      "source": [
        "# Exercício 10\n",
        "\n",
        "\n"
      ],
      "metadata": {
        "id": "WKl6dWMOS71W"
      }
    },
    {
      "cell_type": "code",
      "source": [
        "nmr = int(input(\"Insira um número: \"))\n",
        "for num in range(10):\n",
        "    num = num + 1\n",
        "    tabuada = nmr * num\n",
        "    print(f\"{num} x {nmr} = {tabuada}\")"
      ],
      "metadata": {
        "colab": {
          "base_uri": "https://localhost:8080/"
        },
        "id": "G_wBwxOKS9se",
        "outputId": "a307a250-1e84-4e4b-cd06-cf7f99518da5"
      },
      "execution_count": 26,
      "outputs": [
        {
          "output_type": "stream",
          "name": "stdout",
          "text": [
            "Insira um número: 7\n",
            "1 x 7 = 7\n",
            "2 x 7 = 14\n",
            "3 x 7 = 21\n",
            "4 x 7 = 28\n",
            "5 x 7 = 35\n",
            "6 x 7 = 42\n",
            "7 x 7 = 49\n",
            "8 x 7 = 56\n",
            "9 x 7 = 63\n",
            "10 x 7 = 70\n"
          ]
        }
      ]
    },
    {
      "cell_type": "markdown",
      "source": [
        "# Exercício 11"
      ],
      "metadata": {
        "id": "Ryj20VqCUMC9"
      }
    },
    {
      "cell_type": "code",
      "source": [
        "num = int(input(\"Digite um número: \"))\n",
        "\n",
        "for i in range(1, num + 1):\n",
        "    if num % i == 0:\n",
        "      print(\"os divisores positivos de\", num, \"são: \" ,i)\n"
      ],
      "metadata": {
        "colab": {
          "base_uri": "https://localhost:8080/"
        },
        "id": "JUUw7ZOQURVt",
        "outputId": "d5b72bb6-e37a-4b89-8478-09a975b614cf"
      },
      "execution_count": 35,
      "outputs": [
        {
          "output_type": "stream",
          "name": "stdout",
          "text": [
            "Digite um número: 10\n",
            "os divisores positivos de 10 são:  1\n",
            "os divisores positivos de 10 são:  2\n",
            "os divisores positivos de 10 são:  5\n",
            "os divisores positivos de 10 são:  10\n"
          ]
        }
      ]
    },
    {
      "cell_type": "markdown",
      "source": [
        "# Exercício 12\n"
      ],
      "metadata": {
        "id": "W4cYhwuFWgEN"
      }
    },
    {
      "cell_type": "code",
      "source": [
        "numero = int(input(\"Digite um numero: \"))\n",
        "\n",
        "if numero % numero == 0 and numero % 2 != 0:\n",
        "  print(\"Esse numero é primo\")\n",
        "else:\n",
        "  print(\"Esse numero não é primo\")"
      ],
      "metadata": {
        "colab": {
          "base_uri": "https://localhost:8080/"
        },
        "id": "bqM6e3IBWnid",
        "outputId": "8b2bed0f-ffec-476e-d6b7-022d399db185"
      },
      "execution_count": 151,
      "outputs": [
        {
          "output_type": "stream",
          "name": "stdout",
          "text": [
            "Digite um numero: 3\n",
            "Esse numero é primo\n"
          ]
        }
      ]
    },
    {
      "cell_type": "markdown",
      "source": [
        "# Exercício 13"
      ],
      "metadata": {
        "id": "CzQSeXnwYw2c"
      }
    },
    {
      "cell_type": "code",
      "source": [
        "num = int(input(\"Digite um número: \"))\n",
        "for i in range(num, 0, -1):\n",
        "  print(i)"
      ],
      "metadata": {
        "colab": {
          "base_uri": "https://localhost:8080/"
        },
        "id": "Lfbb-2ulY0Dc",
        "outputId": "d6d190e7-a9c1-4ba5-b408-3405f28f5c92"
      },
      "execution_count": 51,
      "outputs": [
        {
          "output_type": "stream",
          "name": "stdout",
          "text": [
            "Digite um número: 10\n",
            "10\n",
            "9\n",
            "8\n",
            "7\n",
            "6\n",
            "5\n",
            "4\n",
            "3\n",
            "2\n",
            "1\n"
          ]
        }
      ]
    },
    {
      "cell_type": "markdown",
      "source": [
        "# Exercício 14\n"
      ],
      "metadata": {
        "id": "OIRuhjsSZ4f7"
      }
    },
    {
      "cell_type": "code",
      "source": [
        "num = int(input(\"Digite um número: \"))\n",
        "soma = 0\n",
        "for i in range(1, num + 1):\n",
        "  soma = soma + i\n",
        "print(f'A soma de todos os números de 1 a {num} é {soma}')"
      ],
      "metadata": {
        "colab": {
          "base_uri": "https://localhost:8080/"
        },
        "id": "wwtb-zLuZ_L8",
        "outputId": "ef5de212-88c2-468f-9c71-66240e1a9e7c"
      },
      "execution_count": 114,
      "outputs": [
        {
          "output_type": "stream",
          "name": "stdout",
          "text": [
            "Digite um número: 1000\n",
            "A soma de todos os números de 1 a 1000 é 500500\n"
          ]
        }
      ]
    },
    {
      "cell_type": "markdown",
      "source": [
        "# Exercício 15"
      ],
      "metadata": {
        "id": "mfjE1Ejpbbkb"
      }
    },
    {
      "cell_type": "markdown",
      "source": [],
      "metadata": {
        "id": "9GnDBEeiiGwx"
      }
    },
    {
      "cell_type": "code",
      "source": [
        "numero = int(input(\"Digite um número: \"))\n",
        "fatorial = numero\n",
        "for i in range(1, numero + 1):\n",
        "  fatorial = fatorial * i\n",
        "print(f'O fatorial de {numero} é {fatorial}')\n"
      ],
      "metadata": {
        "colab": {
          "base_uri": "https://localhost:8080/"
        },
        "id": "lJ-lS--VbfhD",
        "outputId": "f0341cc0-30a0-4eb5-acf9-38d353f70b62"
      },
      "execution_count": 61,
      "outputs": [
        {
          "output_type": "stream",
          "name": "stdout",
          "text": [
            "Digite um número: 10\n",
            "O fatorial de 10 é 36288000\n"
          ]
        }
      ]
    },
    {
      "cell_type": "markdown",
      "source": [
        "# Exercício 16\n"
      ],
      "metadata": {
        "id": "W3ACf1B6iH5J"
      }
    },
    {
      "cell_type": "code",
      "source": [
        "cores = ['verde', 'amarelo', 'azul', 'vermelho','preto','branco']\n",
        "print(cores[2])"
      ],
      "metadata": {
        "colab": {
          "base_uri": "https://localhost:8080/"
        },
        "id": "2se-gyCHiMx6",
        "outputId": "049824f6-015d-419c-a676-cfc982bf3f86"
      },
      "execution_count": 63,
      "outputs": [
        {
          "output_type": "stream",
          "name": "stdout",
          "text": [
            "azul\n"
          ]
        }
      ]
    },
    {
      "cell_type": "markdown",
      "source": [
        "# Exercício 17"
      ],
      "metadata": {
        "id": "M7UiRY1niuVB"
      }
    },
    {
      "cell_type": "code",
      "source": [
        "lista =[]\n",
        "for i in range(5):\n",
        "  nums = int(input(\"Digite um número: \"))\n",
        "  lista.append(nums)\n",
        "  lista.sort()\n",
        "\n",
        "print(lista)"
      ],
      "metadata": {
        "colab": {
          "base_uri": "https://localhost:8080/"
        },
        "id": "D1945LvciypR",
        "outputId": "e93690f0-d812-4f30-c07e-b0f210b1cfc0"
      },
      "execution_count": 72,
      "outputs": [
        {
          "output_type": "stream",
          "name": "stdout",
          "text": [
            "Digite um número: 9\n",
            "Digite um número: 7\n",
            "Digite um número: 5\n",
            "Digite um número: 3\n",
            "Digite um número: 1\n",
            "[1, 3, 5, 7, 9]\n"
          ]
        }
      ]
    },
    {
      "cell_type": "markdown",
      "source": [
        "# Exercício 18"
      ],
      "metadata": {
        "id": "KcFOWfj-kJjp"
      }
    },
    {
      "cell_type": "code",
      "source": [
        "dicionario = {\n",
        "   \"Nicollas\" : 18,\n",
        "   \"Alfredo\": 23,\n",
        "   \"Gabriel\": 38\n",
        "}\n",
        "\n",
        "nome = str(input(\"Digite um nome: \"))\n",
        "\n",
        "if nome in dicionario:\n",
        "  print(f\"A idade de {nome} é {dicionario[nome]}\")\n",
        "else:\n",
        "  print(\"Nome não encontrado\")\n"
      ],
      "metadata": {
        "colab": {
          "base_uri": "https://localhost:8080/"
        },
        "id": "d94MXCfIkNap",
        "outputId": "5ab5eafd-9fba-4453-b4c1-54f65602ed5e"
      },
      "execution_count": 113,
      "outputs": [
        {
          "output_type": "stream",
          "name": "stdout",
          "text": [
            "Digite um nome: Alfredo\n",
            "A idade de Alfredo é 23\n"
          ]
        }
      ]
    },
    {
      "cell_type": "markdown",
      "source": [
        "# Exercício 19"
      ],
      "metadata": {
        "id": "8mSerB9OqZM_"
      }
    },
    {
      "cell_type": "code",
      "source": [
        "matriz = [[1,2],\n",
        "          [3,4]]\n",
        "\n",
        "print(matriz[0])\n",
        "print(matriz[1])"
      ],
      "metadata": {
        "colab": {
          "base_uri": "https://localhost:8080/"
        },
        "id": "rGApcz7ZqqLX",
        "outputId": "ef00e161-1b60-4df6-f410-8f65b8d9f627"
      },
      "execution_count": 117,
      "outputs": [
        {
          "output_type": "stream",
          "name": "stdout",
          "text": [
            "[1, 2]\n",
            "[3, 4]\n"
          ]
        }
      ]
    },
    {
      "cell_type": "markdown",
      "source": [
        "# Exercício 20"
      ],
      "metadata": {
        "id": "SAbMAUBhrFYY"
      }
    },
    {
      "cell_type": "code",
      "source": [
        "matriz = []\n",
        "\n",
        "for i in range(3):\n",
        "    linha = []\n",
        "    for j in range(3):\n",
        "        valor = str(input(\"Digite um dado: \"))\n",
        "        linha.append(valor)\n",
        "    matriz.append(linha)\n",
        "for linha in matriz:\n",
        "    print(linha)"
      ],
      "metadata": {
        "colab": {
          "base_uri": "https://localhost:8080/"
        },
        "id": "4a5cS4vgrJTH",
        "outputId": "c3c35779-8282-47a0-b132-c593d23231fd"
      },
      "execution_count": 146,
      "outputs": [
        {
          "output_type": "stream",
          "name": "stdout",
          "text": [
            "Digite um dado: a\n",
            "Digite um dado: 1\n",
            "Digite um dado: j\n",
            "Digite um dado: 534\n",
            "Digite um dado: we\n",
            "Digite um dado: b\n",
            "Digite um dado: x\n",
            "Digite um dado: sa\n",
            "Digite um dado: f\n",
            "['a', '1', 'j']\n",
            "['534', 'we', 'b']\n",
            "['x', 'sa', 'f']\n"
          ]
        }
      ]
    }
  ]
}